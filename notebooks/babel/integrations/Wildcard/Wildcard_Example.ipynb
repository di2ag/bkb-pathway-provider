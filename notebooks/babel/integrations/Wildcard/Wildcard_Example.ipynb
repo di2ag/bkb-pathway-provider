{
 "cells": [
  {
   "cell_type": "markdown",
   "metadata": {},
   "source": [
    "# Example Query for Survival Probability of 1-hop Queries\n",
    "\n",
    "Queries our system in the form of:<br>\n",
    "$P(survival\\_time > X | Drug \\wedge Disease)$<br>\n",
    "Returned is a knowledge graph containing probability of survival time and genes that contributed strongly to the question of survival time w.r.t a drug and disease. It is our hope that these have some indication of gene sensitivites."
   ]
  },
  {
   "cell_type": "code",
   "execution_count": 1,
   "metadata": {},
   "outputs": [],
   "source": [
    "import requests\n",
    "import json\n",
    "import csv"
   ]
  },
  {
   "cell_type": "markdown",
   "metadata": {},
   "source": [
    "# /predicate functionality example\n",
    "By running /predicates you can extract a json object with the following predicates:<br>\n",
    "1.) biolink:affects<br>\n",
    "2.) biolink:has_phenotype<br>\n",
    "\n",
    "The above predicates link the following biolink entities:<br>\n",
    "1.) biolink:Gene<br>\n",
    "2.) biolink:Drug<br>\n",
    "3.) biolink:Disease<br>\n",
    "4.) biolink:PhenotypicFeature<br>"
   ]
  },
  {
   "cell_type": "code",
   "execution_count": 2,
   "metadata": {},
   "outputs": [
    {
     "name": "stdout",
     "output_type": "stream",
     "text": [
      "{\n",
      "  \"biolink:Disease\": {\n",
      "    \"biolink:PhenotypicFeature\": [\n",
      "      \"biolink:has_phenotype\"\n",
      "    ]\n",
      "  },\n",
      "  \"biolink:Drug\": {\n",
      "    \"biolink:Disease\": [\n",
      "      \"biolink:affects\"\n",
      "    ],\n",
      "    \"biolink:Gene\": [\n",
      "      \"biolink:affects\"\n",
      "    ]\n",
      "  },\n",
      "  \"biolink:Gene\": {\n",
      "    \"biolink:Disease\": [\n",
      "      \"biolink:affects\"\n",
      "    ]\n",
      "  }\n",
      "}\n"
     ]
    }
   ],
   "source": [
    "r = requests.get('http://chp.thayer.dartmouth.edu/predicates/')\n",
    "json_formatted_str = json.dumps(json.loads(r.content), indent=2)\n",
    "print(json_formatted_str)"
   ]
  },
  {
   "cell_type": "markdown",
   "metadata": {},
   "source": [
    "# Build Query\n",
    "Constructs a json query object and can take in a survival time, a disease and a drug."
   ]
  },
  {
   "cell_type": "code",
   "execution_count": 3,
   "metadata": {},
   "outputs": [],
   "source": [
    "# Function: buildQuery\n",
    "#\n",
    "# Input:\n",
    "# -----------\n",
    "# survival time, a disease and a drug\n",
    "#\n",
    "# Output:\n",
    "# -----------\n",
    "# A query graph that asks this probablistic question: \n",
    "# P(survival_time > X | Drug = d1 and Disease = Breast Cancer)\n",
    "\n",
    "def buildQuery(st, disease, drug):\n",
    "    \n",
    "    # empty response\n",
    "    reasoner_std = { \"query_graph\": dict()\n",
    "                   }\n",
    "    # empty query graph\n",
    "    reasoner_std[\"query_graph\"] = { \"edges\": dict(),\n",
    "                                    \"nodes\": dict()\n",
    "                                  }\n",
    "    \n",
    "    node_count = 0\n",
    "    edge_count = 0\n",
    "    \n",
    "    # wildcard gene slot\n",
    "    reasoner_std['query_graph']['nodes']['n{}'.format(node_count)] = { 'category':'biolink:Gene',\n",
    "                                                                     }\n",
    "    node_count += 1\n",
    "    \n",
    "    # drug\n",
    "    reasoner_std['query_graph']['nodes']['n{}'.format(node_count)] = { 'category':'biolink:Drug',\n",
    "                                                                       'id':'{}'.format(drug[1])\n",
    "                                                                     }\n",
    "    node_count += 1\n",
    "    \n",
    "    # add in disease node\n",
    "    reasoner_std['query_graph']['nodes']['n{}'.format(node_count)] = { 'category':'biolink:Disease',\n",
    "                                                                       'id':'{}'.format(disease[1])\n",
    "                                                                     }\n",
    "    node_count += 1\n",
    "    \n",
    "    # link gene evidence to disease\n",
    "    reasoner_std['query_graph']['edges']['e{}'.format(edge_count)] = { 'predicate':'biolink:affects',\n",
    "                                                                       'subject': 'n{}'.format(node_count -3),\n",
    "                                                                       'object': 'n{}'.format(node_count -1)   # should be disease node\n",
    "                                                                      }\n",
    "    edge_count += 1\n",
    "    \n",
    "    # link drug evidence to disease\n",
    "    reasoner_std['query_graph']['edges']['e{}'.format(edge_count)] = { 'predicate':'biolink:affects',\n",
    "                                                                       'subject': 'n{}'.format(node_count -2),\n",
    "                                                                       'object': 'n{}'.format(node_count -1)  # should be disease node\n",
    "                                                                     }\n",
    "    edge_count += 1\n",
    "            \n",
    "    # add target survival node\n",
    "    phenotype = ('Survival_Time', 'EFO:0000714')\n",
    "    reasoner_std['query_graph']['nodes']['n{}'.format(node_count)] = { 'category': 'biolink:PhenotypicFeature',\n",
    "                                                                       'id': '{}'.format(phenotype[1]),\n",
    "                                                                     }\n",
    "    node_count += 1\n",
    "    \n",
    "    # link disease to target\n",
    "    reasoner_std['query_graph']['edges']['e{}'.format(edge_count)] = { 'predicate':'biolink:has_phenotype',\n",
    "                                                                       'subject': 'n{}'.format(node_count-2),\n",
    "                                                                       'object': 'n{}'.format(node_count-1),\n",
    "                                                                       'properties': { 'qualifier':'>=',\n",
    "                                                                                       'days': st\n",
    "                                                                                     }\n",
    "                                                                     }\n",
    "    return reasoner_std"
   ]
  },
  {
   "cell_type": "markdown",
   "metadata": {},
   "source": [
    "# Read Drugs\n",
    "Functionality to read in our set of available drugs with respective chembl curie IDs."
   ]
  },
  {
   "cell_type": "code",
   "execution_count": 4,
   "metadata": {},
   "outputs": [],
   "source": [
    "def readDrugs():\n",
    "    with open('drug_curie_map.csv', 'r') as drug_file:\n",
    "        reader = csv.reader(drug_file)\n",
    "        next(reader)\n",
    "        rows = [(row[0],row[1]) for row in reader]\n",
    "    return rows"
   ]
  },
  {
   "cell_type": "markdown",
   "metadata": {},
   "source": [
    "# Constructing the Query and pinging CHP\n",
    "You can use the commented out functionality to check which drugs are available. Disease and drug are passed in as a tuple shown below. Currently only breast cancer can be used as the disease."
   ]
  },
  {
   "cell_type": "code",
   "execution_count": 5,
   "metadata": {
    "scrolled": false
   },
   "outputs": [],
   "source": [
    "# list of drugs (and curies) we can query over\n",
    "#drug_list = readDrugs()\n",
    "\n",
    "survival_time = 1000\n",
    "disease = ('Breast_Cancer', 'MONDO:0007254')\n",
    "drug = ('CYCLOPHOSPHAMIDE', 'CHEMBL:CHEMBL88')\n",
    "\n",
    "query = buildQuery(survival_time, disease, drug)\n",
    "payload = {'message': query}\n",
    "\n",
    "#increase max_results\n",
    "payload['max_results'] = 100\n",
    "\n",
    "r = requests.post('http://chp.thayer.dartmouth.edu/query/', json=payload)\n",
    "chp_res = json.loads(r.content)"
   ]
  },
  {
   "cell_type": "markdown",
   "metadata": {},
   "source": [
    "# Extract sensitive genes\n",
    "The very first result will be for the predicted survivability. Every result thereafter contains a gene with its respective sensitivity. Sensitivty values range between -1 and 1. Genes closer to -1 can be thought of as having contributed more to the false assignment of $P(survival\\_time > X | Drug \\wedge Disease)$. Similarly genes closer to 1 can be thought of as having contributed more to the true assignment. Gene sensitivities are order by their absolute value.\n",
    "\n",
    "## 1. Extract predicted survivability"
   ]
  },
  {
   "cell_type": "code",
   "execution_count": 6,
   "metadata": {},
   "outputs": [
    {
     "name": "stdout",
     "output_type": "stream",
     "text": [
      "P(survival_time > 1000 | drug & disease): 0.5300454864137873\n"
     ]
    }
   ],
   "source": [
    "KG = chp_res['message']['knowledge_graph']\n",
    "QG = chp_res['message']['query_graph']\n",
    "results = chp_res['message']['results']\n",
    "\n",
    "# holds probability of survival\n",
    "survival_result = results[0]\n",
    "\n",
    "for qge_id in survival_result['edge_bindings'].keys():\n",
    "    if QG['edges'][qge_id]['predicate'] == 'biolink:has_phenotype':\n",
    "        kge_id = survival_result['edge_bindings'][qge_id][0]['id']\n",
    "        probability = KG['edges'][kge_id]['attributes'][0]['value']\n",
    "        \n",
    "print(\"P(survival_time > {} | drug & disease):\".format(survival_time),probability)"
   ]
  },
  {
   "cell_type": "markdown",
   "metadata": {},
   "source": [
    "## 2. Extract sensitive gene rankings"
   ]
  },
  {
   "cell_type": "code",
   "execution_count": 7,
   "metadata": {},
   "outputs": [
    {
     "name": "stdout",
     "output_type": "stream",
     "text": [
      "('TP53', 'CHEMBL:CHEMBL88', -0.033660234999710104)\n",
      "('VPS13C', 'CHEMBL:CHEMBL88', -0.031878458032680954)\n",
      "('RYR2', 'CHEMBL:CHEMBL88', 0.028681867597806714)\n",
      "('WNK3', 'CHEMBL:CHEMBL88', -0.028082711800518235)\n",
      "('CHD4', 'CHEMBL:CHEMBL88', -0.027544443554162527)\n",
      "('ROBO1', 'CHEMBL:CHEMBL88', -0.027317485660542835)\n",
      "('MYCBP2', 'CHEMBL:CHEMBL88', -0.026678035049294144)\n",
      "('SGIP1', 'CHEMBL:CHEMBL88', -0.026346134957570193)\n",
      "('SPTA1', 'CHEMBL:CHEMBL88', 0.02588583100880638)\n",
      "('ERBB2', 'CHEMBL:CHEMBL88', -0.023752457155211085)\n",
      "('ARID1B', 'CHEMBL:CHEMBL88', -0.023371729944973774)\n",
      "('DNAH17', 'CHEMBL:CHEMBL88', 0.02304638426048171)\n",
      "('NRK', 'CHEMBL:CHEMBL88', 0.022920967940909094)\n",
      "('COL5A2', 'CHEMBL:CHEMBL88', -0.022218245042049008)\n",
      "('UBR4', 'CHEMBL:CHEMBL88', -0.02216565214717962)\n",
      "('BPTF', 'CHEMBL:CHEMBL88', -0.02201212047905177)\n",
      "('GRIN2A', 'CHEMBL:CHEMBL88', -0.021934934420348655)\n",
      "('KCNA4', 'CHEMBL:CHEMBL88', -0.021934934420348655)\n",
      "('MUC16', 'CHEMBL:CHEMBL88', -0.021731907069193528)\n",
      "('LRP1B', 'CHEMBL:CHEMBL88', -0.02170833573588305)\n",
      "('CADM2', 'CHEMBL:CHEMBL88', -0.021449259068862334)\n",
      "('AHNAK2', 'CHEMBL:CHEMBL88', -0.021348076703969352)\n",
      "('AMOTL1', 'CHEMBL:CHEMBL88', -0.021348076703969352)\n",
      "('MXRA5', 'CHEMBL:CHEMBL88', -0.021242890914230577)\n",
      "('PRKDC', 'CHEMBL:CHEMBL88', -0.02121513477482944)\n",
      "('TET1', 'CHEMBL:CHEMBL88', -0.02119430144420698)\n",
      "('EP300', 'CHEMBL:CHEMBL88', -0.02119430144420698)\n",
      "('KMT2C', 'CHEMBL:CHEMBL88', -0.021049824537509226)\n",
      "('ADGRD1', 'CHEMBL:CHEMBL88', -0.02086240135248303)\n",
      "('ECEL1', 'CHEMBL:CHEMBL88', -0.02086240135248303)\n",
      "('ABCA13', 'CHEMBL:CHEMBL88', -0.0208306417882361)\n",
      "('TENM2', 'CHEMBL:CHEMBL88', -0.020757215562744256)\n",
      "('CDH1', 'CHEMBL:CHEMBL88', -0.02002685214200265)\n",
      "('PLCE1', 'CHEMBL:CHEMBL88', -0.019887047224664597)\n",
      "('VWA3A', 'CHEMBL:CHEMBL88', 0.019412298106802752)\n",
      "('SCN2A', 'CHEMBL:CHEMBL88', 0.01933535563973416)\n",
      "('SEMA5A', 'CHEMBL:CHEMBL88', 0.019125221708746375)\n",
      "('PIK3C2B', 'CHEMBL:CHEMBL88', 0.019125221708746375)\n",
      "('LRFN5', 'CHEMBL:CHEMBL88', 0.019125221708746375)\n",
      "('BACH2', 'CHEMBL:CHEMBL88', 0.019027805120209414)\n",
      "('UNC13A', 'CHEMBL:CHEMBL88', 0.018874029860447044)\n",
      "('SCN3A', 'CHEMBL:CHEMBL88', 0.018874029860447044)\n",
      "('SERPINE1', 'CHEMBL:CHEMBL88', 0.018586953462390667)\n",
      "('SLC30A1', 'CHEMBL:CHEMBL88', 0.018586953462390667)\n",
      "('CTNND2', 'CHEMBL:CHEMBL88', 0.018586953462390667)\n",
      "('MTMR4', 'CHEMBL:CHEMBL88', 0.018489536873853706)\n",
      "('AK9', 'CHEMBL:CHEMBL88', 0.018258819147022744)\n",
      "('UNC13C', 'CHEMBL:CHEMBL88', 0.018072919170714595)\n",
      "('ADAMTSL3', 'CHEMBL:CHEMBL88', 0.01806915933750332)\n",
      "('DLC1', 'CHEMBL:CHEMBL88', 0.01806915933750332)\n",
      "('MYO7B', 'CHEMBL:CHEMBL88', -0.017884230563530584)\n",
      "('F5', 'CHEMBL:CHEMBL88', -0.017884230563530584)\n",
      "('STAG2', 'CHEMBL:CHEMBL88', 0.01787808599364068)\n",
      "('PKHD1L1', 'CHEMBL:CHEMBL88', 0.017849727053450924)\n",
      "('DMD', 'CHEMBL:CHEMBL88', -0.017848711166072385)\n",
      "('CMYA5', 'CHEMBL:CHEMBL88', 0.017842201443883626)\n",
      "('MUC17', 'CHEMBL:CHEMBL88', 0.017837022133184374)\n",
      "('PIK3CA', 'CHEMBL:CHEMBL88', 0.017734815681955618)\n",
      "('PDZD2', 'CHEMBL:CHEMBL88', -0.017681865833744613)\n",
      "('NIN', 'CHEMBL:CHEMBL88', -0.0176046797750415)\n",
      "('GRIN2B', 'CHEMBL:CHEMBL88', -0.01760091994183023)\n",
      "('FCGBP', 'CHEMBL:CHEMBL88', 0.017591009595584302)\n",
      "('HDX', 'CHEMBL:CHEMBL88', -0.017552086880172114)\n",
      "('HECW1', 'CHEMBL:CHEMBL88', 0.017534650924358887)\n",
      "('MYH13', 'CHEMBL:CHEMBL88', -0.01744714468206786)\n",
      "('TLN1', 'CHEMBL:CHEMBL88', 0.01733981774728497)\n",
      "('ASTN1', 'CHEMBL:CHEMBL88', -0.017220186788448166)\n",
      "('BAZ2B', 'CHEMBL:CHEMBL88', -0.017220186788448166)\n",
      "('DYNC2H1', 'CHEMBL:CHEMBL88', -0.017192187057412503)\n",
      "('ADAMTS9', 'CHEMBL:CHEMBL88', -0.01711524459034391)\n",
      "('SCN11A', 'CHEMBL:CHEMBL88', -0.017062651695474523)\n",
      "('MROH5', 'CHEMBL:CHEMBL88', -0.017010302392239655)\n",
      "('TRPM6', 'CHEMBL:CHEMBL88', -0.017010302392239655)\n",
      "('KIAA1210', 'CHEMBL:CHEMBL88', -0.01690887643571215)\n",
      "('CCDC168', 'CHEMBL:CHEMBL88', -0.01683605301100892)\n",
      "('RPGRIP1', 'CHEMBL:CHEMBL88', -0.016835693801854828)\n",
      "('NRP2', 'CHEMBL:CHEMBL88', -0.016835693801854828)\n",
      "('MIS18BP1', 'CHEMBL:CHEMBL88', -0.016835693801854828)\n",
      "('ABCF2', 'CHEMBL:CHEMBL88', -0.016835693801854828)\n",
      "('MYO15A', 'CHEMBL:CHEMBL88', -0.016734511436961846)\n",
      "('CEP295', 'CHEMBL:CHEMBL88', -0.016734511436961846)\n",
      "('ETS2', 'CHEMBL:CHEMBL88', -0.016730751603750572)\n",
      "('SF3B1', 'CHEMBL:CHEMBL88', -0.016580736177199473)\n",
      "('HERC2', 'CHEMBL:CHEMBL88', -0.016576976343988203)\n",
      "('SBSN', 'CHEMBL:CHEMBL88', -0.016451200815261493)\n",
      "('NLGN4X', 'CHEMBL:CHEMBL88', -0.016451200815261493)\n",
      "('RFPL2', 'CHEMBL:CHEMBL88', -0.016451200815261493)\n",
      "('RAI14', 'CHEMBL:CHEMBL88', -0.016451200815261493)\n",
      "('NAALADL2', 'CHEMBL:CHEMBL88', -0.016451200815261493)\n",
      "('NWD1', 'CHEMBL:CHEMBL88', -0.016350018450368507)\n",
      "('CRMP1', 'CHEMBL:CHEMBL88', -0.016350018450368507)\n",
      "('PTPRH', 'CHEMBL:CHEMBL88', -0.016350018450368507)\n",
      "('MAP3K15', 'CHEMBL:CHEMBL88', -0.016350018450368507)\n",
      "('COL11A1', 'CHEMBL:CHEMBL88', -0.016350018450368507)\n",
      "('PCDHA3', 'CHEMBL:CHEMBL88', -0.016248836085475525)\n",
      "('WDR93', 'CHEMBL:CHEMBL88', -0.016245076252264252)\n",
      "('ATAD2B', 'CHEMBL:CHEMBL88', -0.016192483357394864)\n",
      "('ABCB11', 'CHEMBL:CHEMBL88', -0.016192483357394864)\n",
      "('SETD2', 'CHEMBL:CHEMBL88', -0.01614365029573675)\n",
      "('EPG5', 'CHEMBL:CHEMBL88', -0.016038708097632495)\n"
     ]
    }
   ],
   "source": [
    "KG = chp_res['message']['knowledge_graph']\n",
    "QG = chp_res['message']['query_graph']\n",
    "results = chp_res['message']['results']\n",
    "\n",
    "# holds gene sensitivites\n",
    "sensitivity_results = results[1:]\n",
    "\n",
    "genes = []\n",
    "for sr in sensitivity_results:\n",
    "    for qge_id in sr['edge_bindings'].keys():\n",
    "        if QG['edges'][qge_id]['predicate'] == 'biolink:affects':\n",
    "            kge_id = sr['edge_bindings'][qge_id][0]['id']\n",
    "            sensitivity = KG['edges'][kge_id]\n",
    "            gene_curie = sensitivity['subject']\n",
    "            gene_weight = sensitivity['attributes'][0]['value']    \n",
    "    for qgn_id in sr['node_bindings'].keys():\n",
    "        if QG['nodes'][qgn_id]['category'] == 'biolink:Gene':\n",
    "            kgn_id = sr['node_bindings'][qgn_id][0]['id']\n",
    "            gene_name = KG['nodes'][kgn_id]['name']\n",
    "    genes.append((gene_name, gene_curie, gene_weight))\n",
    "    \n",
    "for gene in genes:\n",
    "    print(gene)"
   ]
  },
  {
   "cell_type": "code",
   "execution_count": null,
   "metadata": {},
   "outputs": [],
   "source": []
  }
 ],
 "metadata": {
  "kernelspec": {
   "display_name": "Python 3",
   "language": "python",
   "name": "python3"
  },
  "language_info": {
   "codemirror_mode": {
    "name": "ipython",
    "version": 3
   },
   "file_extension": ".py",
   "mimetype": "text/x-python",
   "name": "python",
   "nbconvert_exporter": "python",
   "pygments_lexer": "ipython3",
   "version": "3.8.3"
  }
 },
 "nbformat": 4,
 "nbformat_minor": 2
}
