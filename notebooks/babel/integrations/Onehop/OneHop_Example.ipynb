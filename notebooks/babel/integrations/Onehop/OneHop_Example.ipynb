{
 "cells": [
  {
   "cell_type": "markdown",
   "metadata": {},
   "source": [
    "# Example Query for Survival Probability of 1-hop Queries\n",
    "\n",
    "Queries our system in the form of:<br>\n",
    "$P(survival\\_time > X | Drug)$<br>\n",
    "Returned is a knowledge graph containing genes that contributed strongly to the question of survival time w.r.t a drug. It is our hope that these have some indication of gene sensitivites."
   ]
  },
  {
   "cell_type": "code",
   "execution_count": 1,
   "metadata": {},
   "outputs": [],
   "source": [
    "import requests\n",
    "import json\n",
    "import csv"
   ]
  },
  {
   "cell_type": "markdown",
   "metadata": {},
   "source": [
    "# /predicate functionality example\n",
    "By running /predicates you can extract a json object with the following predicates:<br>\n",
    "1.) biolink:affects<br>\n",
    "2.) biolink:has_phenotype<br>\n",
    "\n",
    "The above predicates link the following biolink entities:<br>\n",
    "1.) biolink:Gene<br>\n",
    "2.) biolink:Drug<br>\n",
    "3.) biolink:Disease<br>\n",
    "4.) biolink:PhenotypicFeature<br>"
   ]
  },
  {
   "cell_type": "code",
   "execution_count": 2,
   "metadata": {},
   "outputs": [
    {
     "name": "stdout",
     "output_type": "stream",
     "text": [
      "{\n",
      "  \"biolink:Disease\": {\n",
      "    \"biolink:PhenotypicFeature\": [\n",
      "      \"biolink:has_phenotype\"\n",
      "    ]\n",
      "  },\n",
      "  \"biolink:Drug\": {\n",
      "    \"biolink:Disease\": [\n",
      "      \"biolink:affects\"\n",
      "    ],\n",
      "    \"biolink:Gene\": [\n",
      "      \"biolink:affects\"\n",
      "    ]\n",
      "  },\n",
      "  \"biolink:Gene\": {\n",
      "    \"biolink:Disease\": [\n",
      "      \"biolink:affects\"\n",
      "    ]\n",
      "  }\n",
      "}\n"
     ]
    }
   ],
   "source": [
    "r = requests.get('http://chp.thayer.dartmouth.edu/predicates/')\n",
    "json_formatted_str = json.dumps(json.loads(r.content), indent=2)\n",
    "print(json_formatted_str)"
   ]
  },
  {
   "cell_type": "markdown",
   "metadata": {},
   "source": [
    "# Build Query\n",
    "Constructs a json query object and can take in a survival time single drug. The gene node will be left without a curie and ultimately in the KG will be replace with a series of contributing genes."
   ]
  },
  {
   "cell_type": "code",
   "execution_count": 3,
   "metadata": {},
   "outputs": [],
   "source": [
    "# Function: buildQuery\n",
    "#\n",
    "# Input:\n",
    "# -----------\n",
    "# a single drug\n",
    "#\n",
    "# Output:\n",
    "# -----------\n",
    "# A query graph that asks this probablistic question: \n",
    "# P(survival_time > X | Drug = d1)\n",
    "\n",
    "def buildQuery(st, drug):\n",
    "    \n",
    "    # empty response\n",
    "    reasoner_std = { \"query_graph\": dict(),\n",
    "                   }\n",
    "    # empty query graph\n",
    "    reasoner_std[\"query_graph\"] = { \"edges\": dict(),\n",
    "                                    \"nodes\": dict()\n",
    "                                  }\n",
    "\n",
    "    # wildcard gene slot\n",
    "    reasoner_std['query_graph']['nodes']['n0'] = { 'category':'biolink:Gene'\n",
    "                                                 }\n",
    "    \n",
    "    # drug\n",
    "    reasoner_std['query_graph']['nodes']['n1'] = { 'category':'biolink:Drug',\n",
    "                                                   'id':'{}'.format(drug[1])\n",
    "                                                 }\n",
    "    \n",
    "    # link drug to gene\n",
    "    reasoner_std['query_graph']['edges']['e0'] = { 'predicate':'biolink:affects',\n",
    "                                                   'subject': 'n0',\n",
    "                                                   'object': 'n1'\n",
    "                                                 }\n",
    "    return reasoner_std"
   ]
  },
  {
   "cell_type": "markdown",
   "metadata": {},
   "source": [
    "# Read Drugs\n",
    "Functionality to read in our set of available drugs with respective chembl curie IDs."
   ]
  },
  {
   "cell_type": "code",
   "execution_count": 4,
   "metadata": {},
   "outputs": [],
   "source": [
    "def readDrugs():\n",
    "    with open('drug_curie_map.csv', 'r') as drug_file:\n",
    "        reader = csv.reader(drug_file)\n",
    "        next(reader)\n",
    "        rows = [(row[0],row[1]) for row in reader]\n",
    "    return rows"
   ]
  },
  {
   "cell_type": "markdown",
   "metadata": {},
   "source": [
    "# Constructing the Query and pinging CHP\n",
    "You can use the commented out functionality to check which drugs are available. A single drug tuple may be passed in as evidence."
   ]
  },
  {
   "cell_type": "code",
   "execution_count": 5,
   "metadata": {
    "scrolled": false
   },
   "outputs": [],
   "source": [
    "# list of drugs (and curies) we can query over\n",
    "#drug_list = readDrugs()\n",
    "\n",
    "survival_time = 1000\n",
    "drug = ('CYCLOPHOSPHAMIDE', 'CHEMBL:CHEMBL88')\n",
    "\n",
    "query = buildQuery(survival_time, drug)\n",
    "payload = {'message': query}\n",
    "\n",
    "#increase max_results\n",
    "payload['max_results'] = 100\n",
    "\n",
    "r = requests.post('http://chp.thayer.dartmouth.edu/query/', json=payload)\n",
    "chp_res = json.loads(r.content)"
   ]
  },
  {
   "cell_type": "markdown",
   "metadata": {},
   "source": [
    "# Extract sensitive genes\n",
    "Sensitivty values range between -1 and 1. Genes closer to -1 can be thought of as having contributed more to the false assignment of $P(survival\\_time > X | Drug)$. Similarly genes closer to 1 can be thought of as having contributed more to the true assignment. Gene sensitivities are order by their absolute value."
   ]
  },
  {
   "cell_type": "markdown",
   "metadata": {},
   "source": [
    "## Extract sensitive gene rankings"
   ]
  },
  {
   "cell_type": "code",
   "execution_count": 6,
   "metadata": {},
   "outputs": [
    {
     "name": "stdout",
     "output_type": "stream",
     "text": [
      "('WNK3', 'ENSEMBL:ENSG00000196632', -0.029651380276518785)\n",
      "('ROBO1', 'ENSEMBL:ENSG00000169855', -0.028486670606384976)\n",
      "('MYCBP2', 'ENSEMBL:ENSG00000005810', -0.027851218557822646)\n",
      "('SGIP1', 'ENSEMBL:ENSG00000118473', -0.027499445254417717)\n",
      "('MUC16', 'ENSEMBL:ENSG00000181143', -0.026864718756743795)\n",
      "('RYR2', 'ENSEMBL:ENSG00000198626', 0.02590807163352221)\n",
      "('ERBB2', 'ENSEMBL:ENSG00000141736', -0.02417889048482236)\n",
      "('CDH1', 'ENSEMBL:ENSG00000039068', -0.023975780606831892)\n",
      "('SPTA1', 'ENSEMBL:ENSG00000163554', 0.023688321656584372)\n",
      "('BPTF', 'ENSEMBL:ENSG00000171634', -0.023333504505433804)\n",
      "('UBR4', 'ENSEMBL:ENSG00000127481', -0.023119954959542183)\n",
      "('GRIN2A', 'ENSEMBL:ENSG00000183454', -0.02287395580099089)\n",
      "('KCNA4', 'ENSEMBL:ENSG00000182255', -0.02287395580099089)\n",
      "('KMT2C', 'ENSEMBL:ENSG00000055609', -0.022825441929686847)\n",
      "('ABCA13', 'ENSEMBL:ENSG00000179869', -0.022557407161036602)\n",
      "('CADM2', 'ENSEMBL:ENSG00000175161', -0.02238034312500726)\n",
      "('AHNAK2', 'ENSEMBL:ENSG00000185567', -0.022274568980153623)\n",
      "('AMOTL1', 'ENSEMBL:ENSG00000166025', -0.022274568980153623)\n",
      "('MXRA5', 'ENSEMBL:ENSG00000101825', -0.022202438524703497)\n",
      "('TET1', 'ENSEMBL:ENSG00000138336', -0.022132729607574925)\n",
      "('EP300', 'ENSEMBL:ENSG00000100393', -0.022132729607574925)\n",
      "('NRK', 'ENSEMBL:ENSG00000123572', 0.02209318944351092)\n",
      "('DNAH17', 'ENSEMBL:ENSG00000187775', 0.021805741299719496)\n",
      "('ADGRD1', 'ENSEMBL:ENSG00000111452', -0.021780956304169995)\n",
      "('ECEL1', 'ENSEMBL:ENSG00000171551', -0.021780956304169995)\n",
      "('TENM2', 'ENSEMBL:ENSG00000145934', -0.02170882584871987)\n",
      "('PIK3CA', 'ENSEMBL:ENSG00000121879', 0.020254008806143253)\n",
      "('MYO7B', 'ENSEMBL:ENSG00000169994', -0.018990079438283333)\n",
      "('CHD4', 'ENSEMBL:ENSG00000111642', -0.01884943414244846)\n",
      "('VWA3A', 'ENSEMBL:ENSG00000175267', 0.018744795024164335)\n",
      "('GRIN2B', 'ENSEMBL:ENSG00000273079', -0.01870801505200697)\n",
      "('SCN2A', 'ENSEMBL:ENSG00000136531', 0.018640635238191736)\n",
      "('MYH13', 'ENSEMBL:ENSG00000006788', -0.018566175679428275)\n",
      "('MROH5', 'ENSEMBL:ENSG00000226807', -0.018497660839043535)\n",
      "('TRPM6', 'ENSEMBL:ENSG00000119121', -0.018497660839043535)\n",
      "('SEMA5A', 'ENSEMBL:ENSG00000112902', 0.0184569265982357)\n",
      "('PIK3C2B', 'ENSEMBL:ENSG00000133056', 0.0184569265982357)\n",
      "('LRFN5', 'ENSEMBL:ENSG00000165379', 0.0184569265982357)\n",
      "('CCDC168', 'ENSEMBL:ENSG00000175820', -0.018360011147236073)\n",
      "('BACH2', 'ENSEMBL:ENSG00000112182', 0.01835695649303434)\n",
      "('NIN', 'ENSEMBL:ENSG00000100503', -0.018318982444133148)\n",
      "('HDX', 'ENSEMBL:ENSG00000165259', -0.018282917216408085)\n",
      "('UNC13A', 'ENSEMBL:ENSG00000130477', 0.01821511712045564)\n",
      "('SCN3A', 'ENSEMBL:ENSG00000153253', 0.01821511712045564)\n",
      "('ADAMTS9', 'ENSEMBL:ENSG00000163638', -0.018214402376023342)\n",
      "('SCN11A', 'ENSEMBL:ENSG00000168356', -0.01817833714829828)\n",
      "('F5', 'ENSEMBL:ENSG00000198734', -0.018072563003444644)\n",
      "('KIAA1210', 'ENSEMBL:ENSG00000250423', -0.01803649777571958)\n",
      "('SERPINE1', 'ENSEMBL:ENSG00000106366', 0.01792724869452701)\n",
      "('CTNND2', 'ENSEMBL:ENSG00000169862', 0.01792724869452701)\n",
      "('SLC30A1', 'ENSEMBL:ENSG00000170385', 0.017927248694527005)\n",
      "('ATP4A', 'ENSEMBL:ENSG00000105675', 0.017927248694527005)\n",
      "('MTMR4', 'ENSEMBL:ENSG00000108389', 0.017827278589325646)\n",
      "('ETS2', 'ENSEMBL:ENSG00000157557', -0.017826563844893346)\n",
      "('STAG2', 'ENSEMBL:ENSG00000101972', 0.01772192472660922)\n",
      "('HERC2', 'ENSEMBL:ENSG00000128731', -0.01768472447231465)\n",
      "('AK9', 'ENSEMBL:ENSG00000155085', 0.017581279430774352)\n",
      "('RPGRIP1', 'ENSEMBL:ENSG00000092200', -0.01754330538187316)\n",
      "('NRP2', 'ENSEMBL:ENSG00000118257', -0.01754330538187316)\n",
      "('MIS18BP1', 'ENSEMBL:ENSG00000129534', -0.01754330538187316)\n",
      "('ABCF2', 'ENSEMBL:ENSG00000033050', -0.01754330538187316)\n",
      "('MYO15A', 'ENSEMBL:ENSG00000091536', -0.017437531237019525)\n",
      "('CEP295', 'ENSEMBL:ENSG00000166004', -0.017437531237019525)\n",
      "('DYNC2H1', 'ENSEMBL:ENSG00000187240', -0.017401045727157255)\n",
      "('ADAMTSL3', 'ENSEMBL:ENSG00000156218', 0.017393381110047075)\n",
      "('DLC1', 'ENSEMBL:ENSG00000164741', 0.017393381110047075)\n",
      "('WDR93', 'ENSEMBL:ENSG00000140527', -0.01733295116890972)\n",
      "('ATAD2B', 'ENSEMBL:ENSG00000119778', -0.017296885941184656)\n",
      "('SF3B1', 'ENSEMBL:ENSG00000115524', -0.017295691864440826)\n",
      "('SBSN', 'ENSEMBL:ENSG00000189001', -0.017155466850743168)\n",
      "('NLGN4X', 'ENSEMBL:ENSG00000146938', -0.017155466850743168)\n",
      "('RFPL2', 'ENSEMBL:ENSG00000128253', -0.017155466850743168)\n",
      "('RAI14', 'ENSEMBL:ENSG00000039560', -0.017155466850743168)\n",
      "('NAALADL2', 'ENSEMBL:ENSG00000177694', -0.017155466850743168)\n",
      "('EPG5', 'ENSEMBL:ENSG00000152223', -0.017155046568605958)\n",
      "('NWD1', 'ENSEMBL:ENSG00000188039', -0.017049692705889533)\n",
      "('CRMP1', 'ENSEMBL:ENSG00000072832', -0.017049692705889533)\n",
      "('PTPRH', 'ENSEMBL:ENSG00000080031', -0.017049692705889533)\n",
      "('MAP3K15', 'ENSEMBL:ENSG00000180815', -0.017049692705889533)\n",
      "('COL11A1', 'ENSEMBL:ENSG00000060718', -0.017049692705889533)\n",
      "('ASTN1', 'ENSEMBL:ENSG00000152092', -0.017013627478164466)\n",
      "('UNC13C', 'ENSEMBL:ENSG00000137766', 0.01700434850217325)\n",
      "('SETD2', 'ENSEMBL:ENSG00000181555', -0.01687178810558577)\n",
      "('ZNF217', 'ENSEMBL:ENSG00000171940', -0.01680327326520103)\n",
      "('PCNT', 'ENSEMBL:ENSG00000160299', 0.016762539024393192)\n",
      "('CMYA5', 'ENSEMBL:ENSG00000164309', 0.016758349343621956)\n",
      "('ACTN3', 'ENSEMBL:ENSG00000248746', -0.016661854174759537)\n",
      "('MYLK2', 'ENSEMBL:ENSG00000101306', -0.016661854174759537)\n",
      "('GARNL3', 'ENSEMBL:ENSG00000136895', -0.016661854174759537)\n",
      "('SYDE1', 'ENSEMBL:ENSG00000105137', -0.016661854174759537)\n",
      "('ARHGAP24', 'ENSEMBL:ENSG00000138639', -0.016661854174759537)\n",
      "('ENTHD1', 'ENSEMBL:ENSG00000176177', -0.016661854174759537)\n",
      "('ESPN', 'ENSEMBL:ENSG00000187017', -0.016661854174759537)\n",
      "('VANGL2', 'ENSEMBL:ENSG00000162738', -0.016661854174759537)\n",
      "('USP25', 'ENSEMBL:ENSG00000155313', -0.016661854174759537)\n",
      "('LRRTM4', 'ENSEMBL:ENSG00000176204', -0.016661854174759537)\n",
      "('CTNND1', 'ENSEMBL:ENSG00000198561', -0.016661854174759537)\n",
      "('NBPF11', 'ENSEMBL:ENSG00000263956', -0.016661854174759537)\n",
      "('NKAIN2', 'ENSEMBL:ENSG00000188580', -0.016661854174759537)\n"
     ]
    }
   ],
   "source": [
    "KG = chp_res['message']['knowledge_graph']\n",
    "QG = chp_res['message']['query_graph']\n",
    "results = chp_res['message']['results']\n",
    "\n",
    "# holds gene sensitivites\n",
    "sensitivity_results = results[1:]\n",
    "\n",
    "genes = []\n",
    "for sr in sensitivity_results:\n",
    "    for qge_id in sr['edge_bindings'].keys():\n",
    "        if QG['edges'][qge_id]['predicate'] == 'biolink:affects':\n",
    "            kge_id = sr['edge_bindings'][qge_id][0]['id']\n",
    "            sensitivity = KG['edges'][kge_id]\n",
    "            gene_curie = sensitivity['subject']\n",
    "            gene_weight = sensitivity['attributes'][0]['value']    \n",
    "    for qgn_id in sr['node_bindings'].keys():\n",
    "        if QG['nodes'][qgn_id]['category'] == 'biolink:Gene':\n",
    "            kgn_id = sr['node_bindings'][qgn_id][0]['id']\n",
    "            gene_name = KG['nodes'][kgn_id]['name']\n",
    "    genes.append((gene_name, gene_curie, gene_weight))\n",
    "    \n",
    "for gene in genes:\n",
    "    print(gene)"
   ]
  },
  {
   "cell_type": "code",
   "execution_count": null,
   "metadata": {},
   "outputs": [],
   "source": []
  }
 ],
 "metadata": {
  "kernelspec": {
   "display_name": "Python 3",
   "language": "python",
   "name": "python3"
  },
  "language_info": {
   "codemirror_mode": {
    "name": "ipython",
    "version": 3
   },
   "file_extension": ".py",
   "mimetype": "text/x-python",
   "name": "python",
   "nbconvert_exporter": "python",
   "pygments_lexer": "ipython3",
   "version": "3.8.3"
  }
 },
 "nbformat": 4,
 "nbformat_minor": 2
}
